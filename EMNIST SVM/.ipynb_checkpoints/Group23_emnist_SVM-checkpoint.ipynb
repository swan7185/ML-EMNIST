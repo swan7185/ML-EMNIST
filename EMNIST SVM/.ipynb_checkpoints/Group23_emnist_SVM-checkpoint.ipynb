{
 "cells": [
  {
   "cell_type": "code",
   "execution_count": null,
   "id": "front-mechanics",
   "metadata": {},
   "outputs": [],
   "source": [
    "#load the file"
   ]
  },
  {
   "cell_type": "code",
   "execution_count": 1,
   "id": "collected-cookie",
   "metadata": {},
   "outputs": [],
   "source": [
    "from scipy import io as sio\n",
    "file = sio.loadmat('./EMNIST./zip/matlab/emnist-byclass.mat')"
   ]
  },
  {
   "cell_type": "code",
   "execution_count": null,
   "id": "marine-presentation",
   "metadata": {},
   "outputs": [],
   "source": [
    "#load the data, seperate the data to train set and data set, then reshape"
   ]
  },
  {
   "cell_type": "code",
   "execution_count": 2,
   "id": "stock-middle",
   "metadata": {},
   "outputs": [
    {
     "name": "stdout",
     "output_type": "stream",
     "text": [
      "dict_keys(['__header__', '__version__', '__globals__', 'dataset'])\n",
      "(697932, 784)\n",
      "(697932,)\n",
      "(116323, 784)\n",
      "(116323,)\n"
     ]
    }
   ],
   "source": [
    "import numpy as np\n",
    "\n",
    "print(file.keys())\n",
    "train = file['dataset'][0][0][0]\n",
    "test = file['dataset'][0][0][1]\n",
    "data_train = train[0][0][0]\n",
    "label_train = train[0][0][1].reshape(-1)\n",
    "data_test = test[0][0][0]\n",
    "label_test = test[0][0][1].reshape(-1)\n",
    "\n",
    "mapping = file['dataset'][0][0][2]\n",
    "\n",
    "print(data_train.shape)\n",
    "print(label_train.shape)\n",
    "print(data_test.shape)\n",
    "print(label_test.shape)"
   ]
  },
  {
   "cell_type": "code",
   "execution_count": null,
   "id": "complete-identity",
   "metadata": {},
   "outputs": [],
   "source": [
    "#rotate the image by -90 degree and then flip horizontally"
   ]
  },
  {
   "cell_type": "code",
   "execution_count": 3,
   "id": "political-wrapping",
   "metadata": {},
   "outputs": [
    {
     "name": "stdout",
     "output_type": "stream",
     "text": [
      "(69793, 784)\n",
      "(69793,)\n",
      "(11632, 784)\n",
      "(11632,)\n"
     ]
    }
   ],
   "source": [
    "data_train = data_train.reshape([-1,28,28])\n",
    "data_train = np.rot90(data_train, axes=[2,1])\n",
    "data_train = np.flip(data_train, axis=2)\n",
    "data_train = data_train.reshape([-1, 28 * 28])\n",
    "data_test = data_test.reshape([-1,28,28])\n",
    "data_test = np.rot90(data_test, axes=[2,1])\n",
    "data_test = np.flip(data_test, axis=2)\n",
    "data_test= data_test.reshape([-1, 28 * 28])\n",
    "\n",
    "#randomly shuffle the data, and take 10% of the dataset \n",
    "#1/10 for train and test respectively, 69793 train samples and 11632 test samples\n",
    "\n",
    "train_sample_index = np.random.choice(data_train.shape[0], data_train.shape[0]//10)\n",
    "data_train = data_train[train_sample_index]\n",
    "label_train = label_train[train_sample_index]\n",
    "\n",
    "test_sample_index = np.random.choice(data_test.shape[0], data_test.shape[0]//10)\n",
    "data_test = data_test[test_sample_index]\n",
    "label_test = label_test[test_sample_index]\n",
    "\n",
    "print(data_train.shape)\n",
    "print(label_train.shape)\n",
    "print(data_test.shape)\n",
    "print(label_test.shape)"
   ]
  },
  {
   "cell_type": "code",
   "execution_count": null,
   "id": "opposite-fifth",
   "metadata": {},
   "outputs": [],
   "source": [
    "#show the original image in dataset"
   ]
  },
  {
   "cell_type": "code",
   "execution_count": 4,
   "id": "latter-hypothesis",
   "metadata": {},
   "outputs": [
    {
     "data": {
      "image/png": "[encoded data removed]",
      "text/plain": [
       "<Figure size 432x288 with 1 Axes>"
      ]
     },
     "metadata": {
      "needs_background": "light"
     },
     "output_type": "display_data"
    }
   ],
   "source": [
    "import matplotlib.pyplot as plt\n",
    "img = data_train[0].reshape([28,28])\n",
    "plt.imshow(img, cmap=plt.get_cmap('gray'))\n",
    "plt.title(\"class:\" +  str(label_train[0]) + \"  char:\" + chr(mapping[label_train[0]][1]))\n",
    "plt.show()"
   ]
  },
  {
   "cell_type": "code",
   "execution_count": null,
   "id": "middle-reflection",
   "metadata": {},
   "outputs": [],
   "source": []
  },
  {
   "cell_type": "code",
   "execution_count": 5,
   "id": "broad-telling",
   "metadata": {},
   "outputs": [],
   "source": [
    "# Pre-Processing Normaliazation"
   ]
  },
  {
   "cell_type": "code",
   "execution_count": 6,
   "id": "personalized-hospital",
   "metadata": {},
   "outputs": [],
   "source": [
    "# all feature data are divided by 255 to scale all image pixels to 0-1.\n",
    "data_train = data_train/255\n",
    "data_test = data_test/255"
   ]
  },
  {
   "cell_type": "code",
   "execution_count": 7,
   "id": "accepted-environment",
   "metadata": {},
   "outputs": [],
   "source": [
    "# Pre-Processing PCA"
   ]
  },
  {
   "cell_type": "code",
   "execution_count": 8,
   "id": "dated-migration",
   "metadata": {},
   "outputs": [
    {
     "data": {
      "image/png": "[encoded data removed]",
      "text/plain": [
       "<Figure size 720x432 with 1 Axes>"
      ]
     },
     "metadata": {
      "needs_background": "light"
     },
     "output_type": "display_data"
    }
   ],
   "source": [
    "from sklearn.decomposition import PCA\n",
    "\n",
    "pca = PCA()\n",
    "#train\n",
    "pca.fit(data_train)\n",
    "\n",
    "cumsum = np.cumsum(pca.explained_variance_ratio_)\n",
    "\n",
    "#show the image of the variance occupied by each dimension\n",
    "plt.figure(figsize = (10,6) )\n",
    "plt.plot(cumsum, linewidth = 3)\n",
    "plt.axis([0,784,0.65,1])\n",
    "plt.grid(True)\n",
    "plt.show()"
   ]
  },
  {
   "cell_type": "code",
   "execution_count": 9,
   "id": "interior-copper",
   "metadata": {},
   "outputs": [],
   "source": [
    "# reduce the dimension 150, because when the dimension is 150, more than 95% of the information is already covered. \n",
    "pca = PCA(n_components=150)\n",
    "pca.fit(data_train)\n",
    "\n",
    "\n",
    "data_train = pca.transform(data_train)\n",
    "\n",
    "data_test = pca.transform(data_test)"
   ]
  },
  {
   "cell_type": "code",
   "execution_count": 10,
   "id": "supreme-airplane",
   "metadata": {},
   "outputs": [
    {
     "data": {
      "text/plain": [
       "(69793, 150)"
      ]
     },
     "execution_count": 10,
     "metadata": {},
     "output_type": "execute_result"
    }
   ],
   "source": [
    "data_train.shape"
   ]
  },
  {
   "cell_type": "code",
   "execution_count": null,
   "id": "mathematical-victory",
   "metadata": {},
   "outputs": [],
   "source": []
  },
  {
   "cell_type": "code",
   "execution_count": 11,
   "id": "labeled-glory",
   "metadata": {},
   "outputs": [],
   "source": [
    "# SVM classifier"
   ]
  },
  {
   "cell_type": "code",
   "execution_count": null,
   "id": "departmental-entry",
   "metadata": {},
   "outputs": [
    {
     "name": "stdout",
     "output_type": "stream",
     "text": [
      "Fitting 5 folds for each of 48 candidates, totalling 240 fits\n"
     ]
    }
   ],
   "source": [
    "from sklearn.svm import SVC\n",
    "from sklearn.model_selection import GridSearchCV\n",
    "\n",
    "#set the parameters\n",
    "grid_params = {'C': [0.001, 0.005, 0.01, 0.02, 0.03, 0.04, 0.05, 0.06, 0.07, 0.08, 0.09, 0.1], 'kernel': ['rbf', 'linear','poly','sigmoid']}\n",
    "\n",
    "#train the model\n",
    "svm = GridSearchCV(SVC(), grid_params, cv = 5, n_jobs = -1, verbose=10)\n",
    "svm.fit(data_train, label_train)"
   ]
  },
  {
   "cell_type": "code",
   "execution_count": 12,
   "id": "accomplished-oliver",
   "metadata": {},
   "outputs": [],
   "source": [
    "#show the best search score\n",
    "best_cv_score = np.max(svm.cv_results_['mean_test_score'])\n",
    "best_params = svm.best_params_\n",
    "print(f'best cv score {best_cv_score}')"
   ]
  },
  {
   "cell_type": "code",
   "execution_count": null,
   "id": "acceptable-citizen",
   "metadata": {},
   "outputs": [],
   "source": [
    "# Graphs of the accuracy vs. c, the runtime vs. c\n",
    "# Graphs of the accuracy vs. kernel, the runtime vs. kernel"
   ]
  },
  {
   "cell_type": "code",
   "execution_count": 52,
   "id": "suspected-neighbor",
   "metadata": {},
   "outputs": [
    {
     "name": "stdout",
     "output_type": "stream",
     "text": [
      "[0.10528276159211518, 0.4633702536282617, 0.5406415525474831, 0.6192740892947898, 0.6580745747522674, 0.6764574812932652, 0.6898398992788544, 0.7013453437384807, 0.7111600703269327, 0.7194273475713541, 0.727350799648544, 0.7337841089713729]\n",
      "[0.6966170594310332, 0.739586983192267, 0.7503617193623382, 0.7571102908882203, 0.7598039962302965, 0.7615950006333924, 0.7626695967057477, 0.7635722565853383, 0.7634003378428142, 0.7638874838879107, 0.7639304679361019, 0.7636725554350771]\n",
      "[0.06206925608321284, 0.3762842188822257, 0.4923702919264071, 0.563724149637208, 0.6154771469033403, 0.644205005589158, 0.6638057982858342, 0.6791654958325182, 0.6919031561746942, 0.7024199428902902, 0.7119481447422717, 0.72064530044854]\n",
      "[0.3113206720752763, 0.4972275170870958, 0.5727938197325082, 0.6243462757558236, 0.6416115990968208, 0.6526012236868208, 0.6615849380035556, 0.6681758527657928, 0.6727321577681168, 0.6760419469290764, 0.6788072598461212, 0.6801254438250532]\n"
     ]
    },
    {
     "data": {
      "image/png": "[encoded data removed]",
      "text/plain": [
       "<Figure size 1080x864 with 2 Axes>"
      ]
     },
     "metadata": {
      "needs_background": "light"
     },
     "output_type": "display_data"
    }
   ],
   "source": [
    "cv_results = svm.cv_results_\n",
    "cost_times = cv_results['mean_fit_time'] + cv_results['mean_score_time']\n",
    "kernal_cost_time = []\n",
    "kernal_score = []\n",
    "for kernal in grid_params['kernel']:\n",
    "    index = cv_results['param_kernel'] == kernal\n",
    "    score = list(cv_results['mean_test_score'][index])\n",
    "    cost_time = list(cost_times[index])\n",
    "    kernal_score.append(score)\n",
    "    kernal_cost_time.append(cost_time)\n",
    "\n",
    "plt.figure(figsize = (15,12))\n",
    "\n",
    "plt.subplot(2,2,1)\n",
    "for score in kernal_score:\n",
    "    print(score)\n",
    "    plt.plot(grid_params['C'], score)\n",
    "plt.legend(grid_params['kernel'])\n",
    "plt.xticks(grid_params['C'])\n",
    "plt.title(\"The Accuracy of SVM\")\n",
    "plt.ylabel(\"Accuracy\")\n",
    "plt.xlabel(\"C\")\n",
    "\n",
    "plt.subplot(2,2,2)\n",
    "for cost_time in kernal_cost_time:\n",
    "    plt.plot(grid_params['C'], cost_time)\n",
    "plt.legend(grid_params['kernel'])\n",
    "plt.xticks(grid_params['C'])\n",
    "plt.title(\"The Runtime of SVM\")\n",
    "plt.ylabel(\"time(s)\")\n",
    "plt.xlabel(\"C\")\n",
    "\n",
    "plt.show()"
   ]
  },
  {
   "cell_type": "code",
   "execution_count": null,
   "id": "pretty-reader",
   "metadata": {},
   "outputs": [],
   "source": [
    "#calculate the best parameters of SVM model"
   ]
  },
  {
   "cell_type": "code",
   "execution_count": 13,
   "id": "attempted-james",
   "metadata": {},
   "outputs": [
    {
     "data": {
      "text/plain": [
       "SVC(C=0.09, kernel='linear')"
      ]
     },
     "execution_count": 13,
     "metadata": {},
     "output_type": "execute_result"
    }
   ],
   "source": [
    "from sklearn.svm import SVC\n",
    "from sklearn.metrics import accuracy_score, precision_score, recall_score, confusion_matrix\n",
    "\n",
    "best_esemble = SVC(**best_params)\n",
    "best_esemble.fit(data_train, label_train)"
   ]
  },
  {
   "cell_type": "code",
   "execution_count": null,
   "id": "saving-motivation",
   "metadata": {},
   "outputs": [],
   "source": [
    "#calculate the perfermance metric of SVM model, including precision, recall, accuracy"
   ]
  },
  {
   "cell_type": "code",
   "execution_count": 14,
   "id": "advised-creek",
   "metadata": {},
   "outputs": [
    {
     "name": "stdout",
     "output_type": "stream",
     "text": [
      "Accuracy0.7575653370013755\n",
      "Recall0.5733782322120649\n",
      "Precision0.6203616955697413\n",
      "[[436   0   1 ...   0   0   0]\n",
      " [  0 611   1 ...   1   0   0]\n",
      " [  1   0 542 ...   0   0  18]\n",
      " ...\n",
      " [  0   0   0 ...  25   0   0]\n",
      " [  0   1   0 ...   1   6   0]\n",
      " [  0   0   3 ...   0   0  13]]\n"
     ]
    },
    {
     "name": "stderr",
     "output_type": "stream",
     "text": [
      "/Library/Frameworks/Python.framework/Versions/3.9/lib/python3.9/site-packages/sklearn/metrics/_classification.py:1318: UndefinedMetricWarning: Precision is ill-defined and being set to 0.0 in labels with no predicted samples. Use `zero_division` parameter to control this behavior.\n",
      "  _warn_prf(average, modifier, msg_start, len(result))\n"
     ]
    }
   ],
   "source": [
    "predict_data = best_esemble.predict(data_test)\n",
    "precision = precision_score(label_test, predict_data, average = 'macro')\n",
    "recall = recall_score(label_test, predict_data, average = 'macro')\n",
    "accuracy = accuracy_score(label_test, predict_data)\n",
    "\n",
    "print(\"Accuracy\" + str(accuracy))\n",
    "print(\"Recall\" + str(recall))\n",
    "print(\"Precision\" + str(precision))\n",
    "\n",
    "#show the confusion_matrix of this SVM model\n",
    "print(confusion_matrix(predict_data,label_test))"
   ]
  },
  {
   "cell_type": "code",
   "execution_count": 55,
   "id": "trained-initial",
   "metadata": {},
   "outputs": [],
   "source": [
    "#save the model"
   ]
  },
  {
   "cell_type": "code",
   "execution_count": 56,
   "id": "attached-miniature",
   "metadata": {},
   "outputs": [],
   "source": [
    "import joblib\n",
    "joblib.dump(best_esemble,'./EMNIST./zip/matlab/svm.pt')\n",
    "best_esemble = joblib.load('./EMNIST./zip/matlab/svm.model')"
   ]
  },
  {
   "cell_type": "code",
   "execution_count": null,
   "id": "fresh-cooperation",
   "metadata": {},
   "outputs": [],
   "source": []
  }
 ],
 "metadata": {
  "kernelspec": {
   "display_name": "Python 3",
   "language": "python",
   "name": "python3"
  },
  "language_info": {
   "codemirror_mode": {
    "name": "ipython",
    "version": 3
   },
   "file_extension": ".py",
   "mimetype": "text/x-python",
   "name": "python",
   "nbconvert_exporter": "python",
   "pygments_lexer": "ipython3",
   "version": "3.9.1"
  }
 },
 "nbformat": 4,
 "nbformat_minor": 5
}
