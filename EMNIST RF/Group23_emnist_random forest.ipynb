{
 "cells": [
  {
   "cell_type": "code",
   "execution_count": null,
   "id": "according-british",
   "metadata": {},
   "outputs": [],
   "source": [
    "#load the data from website of matlab format, and save locally as a file"
   ]
  },
  {
   "cell_type": "code",
   "execution_count": 1,
   "id": "daily-precipitation",
   "metadata": {},
   "outputs": [
    {
     "name": "stdout",
     "output_type": "stream",
     "text": [
      "<_io.BufferedRandom name=57>\n",
      "EMNIST./zip/matlab/emnist-balanced.mat\n",
      "EMNIST./zip/matlab/emnist-byclass.mat\n",
      "EMNIST./zip/matlab/emnist-bymerge.mat\n",
      "EMNIST./zip/matlab/emnist-digits.mat\n",
      "EMNIST./zip/matlab/emnist-letters.mat\n",
      "EMNIST./zip/matlab/emnist-mnist.mat\n"
     ]
    }
   ],
   "source": [
    "import requests\n",
    "import zipfile\n",
    "import tempfile\n",
    " \n",
    " \n",
    "def get_data():\n",
    "    url = \"http://www.itl.nist.gov/iaui/vip/cs_links/EMNIST/matlab.zip\"\n",
    "    response = requests.get(url)\n",
    "    return url, response.content\n",
    " \n",
    " \n",
    "if __name__ == '__main__':\n",
    "    url, data = get_data()  # data is byte type\n",
    " \n",
    "    _tmp_file = tempfile.TemporaryFile()  #Create temporary files\n",
    "    print(_tmp_file)\n",
    " \n",
    "    _tmp_file.write(data)  # write byte data to temporary file\n",
    " \n",
    "    zf = zipfile.ZipFile(_tmp_file, mode='r')\n",
    "    for names in zf.namelist():\n",
    "        f = zf.extract(names, 'EMNIST./zip')  #Unzip to the zip directory file\n",
    "        print(f)\n",
    " \n",
    "    zf.close()"
   ]
  },
  {
   "cell_type": "code",
   "execution_count": null,
   "id": "adopted-duration",
   "metadata": {},
   "outputs": [],
   "source": [
    "#load the file"
   ]
  },
  {
   "cell_type": "code",
   "execution_count": 2,
   "id": "domestic-newcastle",
   "metadata": {},
   "outputs": [],
   "source": [
    "from scipy import io as sio\n",
    "file = sio.loadmat('./EMNIST./zip/matlab/emnist-byclass.mat')"
   ]
  },
  {
   "cell_type": "code",
   "execution_count": null,
   "id": "successful-saying",
   "metadata": {},
   "outputs": [],
   "source": [
    "#load the data, seperate the data to train set and data set, then reshape"
   ]
  },
  {
   "cell_type": "code",
   "execution_count": 3,
   "id": "medical-trinidad",
   "metadata": {},
   "outputs": [
    {
     "name": "stdout",
     "output_type": "stream",
     "text": [
      "dict_keys(['__header__', '__version__', '__globals__', 'dataset'])\n",
      "(697932, 784)\n",
      "(697932,)\n",
      "(116323, 784)\n",
      "(116323,)\n"
     ]
    }
   ],
   "source": [
    "import numpy as np\n",
    "\n",
    "print(file.keys())\n",
    "train = file['dataset'][0][0][0]\n",
    "test = file['dataset'][0][0][1]\n",
    "data_train = train[0][0][0]\n",
    "label_train = train[0][0][1].reshape(-1)\n",
    "data_test = test[0][0][0]\n",
    "label_test = test[0][0][1].reshape(-1)\n",
    "\n",
    "mapping = file['dataset'][0][0][2]\n",
    "\n",
    "print(data_train.shape)\n",
    "print(label_train.shape)\n",
    "print(data_test.shape)\n",
    "print(label_test.shape)"
   ]
  },
  {
   "cell_type": "code",
   "execution_count": null,
   "id": "whole-hanging",
   "metadata": {},
   "outputs": [],
   "source": [
    "#rotate the image by -90 degree and then flip horizontally"
   ]
  },
  {
   "cell_type": "code",
   "execution_count": 4,
   "id": "cooked-independence",
   "metadata": {},
   "outputs": [
    {
     "name": "stdout",
     "output_type": "stream",
     "text": [
      "(69793, 784)\n",
      "(69793,)\n",
      "(11632, 784)\n",
      "(11632,)\n"
     ]
    }
   ],
   "source": [
    "data_train = data_train.reshape([-1,28,28])\n",
    "data_train = np.rot90(data_train, axes=[2,1])\n",
    "data_train = np.flip(data_train, axis=2)\n",
    "data_train = data_train.reshape([-1, 28 * 28])\n",
    "data_test = data_test.reshape([-1,28,28])\n",
    "data_test = np.rot90(data_test, axes=[2,1])\n",
    "data_test = np.flip(data_test, axis=2)\n",
    "data_test= data_test.reshape([-1, 28 * 28])\n",
    "\n",
    "#randomly shuffle the data, and take 10% of the dataset \n",
    "#1/10 for train and test respectively, 69793 train samples and 11632 test samples\n",
    "\n",
    "train_sample_index = np.random.choice(data_train.shape[0], data_train.shape[0]//10)\n",
    "data_train = data_train[train_sample_index]\n",
    "label_train = label_train[train_sample_index]\n",
    "\n",
    "test_sample_index = np.random.choice(data_test.shape[0], data_test.shape[0]//10)\n",
    "data_test = data_test[test_sample_index]\n",
    "label_test = label_test[test_sample_index]\n",
    "\n",
    "print(data_train.shape)\n",
    "print(label_train.shape)\n",
    "print(data_test.shape)\n",
    "print(label_test.shape)"
   ]
  },
  {
   "cell_type": "code",
   "execution_count": null,
   "id": "outdoor-poker",
   "metadata": {},
   "outputs": [],
   "source": [
    "#show the original image in dataset"
   ]
  },
  {
   "cell_type": "code",
   "execution_count": 5,
   "id": "sharing-incident",
   "metadata": {},
   "outputs": [
    {
     "data": {
      "image/png": "[encoded data removed]",
      "text/plain": [
       "<Figure size 432x288 with 1 Axes>"
      ]
     },
     "metadata": {
      "needs_background": "light"
     },
     "output_type": "display_data"
    }
   ],
   "source": [
    "import matplotlib.pyplot as plt\n",
    "img = data_train[0].reshape([28,28])\n",
    "plt.imshow(img, cmap=plt.get_cmap('gray'))\n",
    "plt.title(\"class:\" +  str(label_train[0]) + \"  char:\" + chr(mapping[label_train[0]][1]))\n",
    "plt.show()"
   ]
  },
  {
   "cell_type": "code",
   "execution_count": null,
   "id": "professional-browser",
   "metadata": {},
   "outputs": [],
   "source": []
  },
  {
   "cell_type": "code",
   "execution_count": 6,
   "id": "vietnamese-sessions",
   "metadata": {},
   "outputs": [],
   "source": [
    "# Pre-Processing Normaliazation"
   ]
  },
  {
   "cell_type": "code",
   "execution_count": 7,
   "id": "intimate-waterproof",
   "metadata": {},
   "outputs": [],
   "source": [
    "#all feature data are divided by 255 to scale all image pixels to 0-1.\n",
    "data_train = data_train/255\n",
    "data_test = data_test/255"
   ]
  },
  {
   "cell_type": "code",
   "execution_count": 8,
   "id": "changing-projector",
   "metadata": {},
   "outputs": [],
   "source": [
    "# Pre-Processing PCA"
   ]
  },
  {
   "cell_type": "code",
   "execution_count": 9,
   "id": "physical-automation",
   "metadata": {},
   "outputs": [
    {
     "data": {
      "image/png": "[encoded data removed]",
      "text/plain": [
       "<Figure size 720x432 with 1 Axes>"
      ]
     },
     "metadata": {
      "needs_background": "light"
     },
     "output_type": "display_data"
    }
   ],
   "source": [
    "from sklearn.decomposition import PCA\n",
    "\n",
    "pca = PCA()\n",
    "#train\n",
    "pca.fit(data_train)\n",
    "\n",
    "cumsum = np.cumsum(pca.explained_variance_ratio_)\n",
    "\n",
    "#show the image of the variance occupied by each dimension\n",
    "plt.figure(figsize = (10,6) )\n",
    "plt.plot(cumsum, linewidth = 3)\n",
    "plt.axis([0,784,0.65,1])\n",
    "plt.grid(True)\n",
    "plt.show()"
   ]
  },
  {
   "cell_type": "code",
   "execution_count": 10,
   "id": "recent-pakistan",
   "metadata": {},
   "outputs": [],
   "source": [
    "# reduce the dimension 150, because when the dimension is 150, more than 95% of the information is already covered.\n",
    "pca = PCA(n_components=150)\n",
    "pca.fit(data_train)\n",
    "\n",
    "\n",
    "data_train = pca.transform(data_train)\n",
    "\n",
    "data_test = pca.transform(data_test)"
   ]
  },
  {
   "cell_type": "code",
   "execution_count": 11,
   "id": "occupied-portrait",
   "metadata": {},
   "outputs": [
    {
     "data": {
      "text/plain": [
       "(69793, 150)"
      ]
     },
     "execution_count": 11,
     "metadata": {},
     "output_type": "execute_result"
    }
   ],
   "source": [
    "data_train.shape"
   ]
  },
  {
   "cell_type": "code",
   "execution_count": null,
   "id": "available-prospect",
   "metadata": {},
   "outputs": [],
   "source": []
  },
  {
   "cell_type": "code",
   "execution_count": 12,
   "id": "mature-plaza",
   "metadata": {},
   "outputs": [],
   "source": [
    "#Random forest classifier"
   ]
  },
  {
   "cell_type": "code",
   "execution_count": 13,
   "id": "yellow-sacramento",
   "metadata": {},
   "outputs": [
    {
     "name": "stdout",
     "output_type": "stream",
     "text": [
      "{'bootstrap': True,\n",
      " 'ccp_alpha': 0.0,\n",
      " 'class_weight': None,\n",
      " 'criterion': 'gini',\n",
      " 'max_depth': None,\n",
      " 'max_features': 'auto',\n",
      " 'max_leaf_nodes': None,\n",
      " 'max_samples': None,\n",
      " 'min_impurity_decrease': 0.0,\n",
      " 'min_samples_leaf': 1,\n",
      " 'min_samples_split': 2,\n",
      " 'min_weight_fraction_leaf': 0.0,\n",
      " 'n_estimators': 100,\n",
      " 'n_jobs': None,\n",
      " 'oob_score': False,\n",
      " 'random_state': 42,\n",
      " 'verbose': 0,\n",
      " 'warm_start': False}\n"
     ]
    }
   ],
   "source": [
    "from sklearn.ensemble import RandomForestClassifier\n",
    "rf = RandomForestClassifier(random_state = 42)\n",
    "from pprint import pprint\n",
    "\n",
    "# Look at parameters used by current forest\n",
    "pprint(rf.get_params())"
   ]
  },
  {
   "cell_type": "code",
   "execution_count": 14,
   "id": "entire-bedroom",
   "metadata": {},
   "outputs": [],
   "source": [
    "from sklearn.model_selection import RandomizedSearchCV\n",
    "\n",
    "#set the parameters\n",
    "n_estimators = [int(x) for x in np.linspace(start = 100, stop = 250, num = 50)]\n",
    "max_features = ['auto', 'sqrt']\n",
    "max_depth = [int(x) for x in np.linspace(10, 110, num = 11)]\n",
    "min_samples_split = [2, 5, 10]\n",
    "min_samples_leaf = [1, 2, 4]\n",
    "bootstrap = [True, False]\n",
    "\n",
    "#Create random search grid, create a RandomForestClassifier\n",
    "random_grid = {'n_estimators': n_estimators,\n",
    "               'max_features': max_features,\n",
    "               'max_depth': max_depth,\n",
    "               'min_samples_split': min_samples_split,\n",
    "               'min_samples_leaf': min_samples_leaf,\n",
    "               'bootstrap': bootstrap}\n",
    "rf = RandomForestClassifier()\n",
    "\n",
    "search = True\n",
    "\n",
    "# Random search of parameters, using 5 fold cross validation, verbose=10\n",
    "if search:\n",
    "    rf_random = RandomizedSearchCV(estimator = rf, param_distributions = random_grid, n_iter = 50, cv = 5, verbose=10, random_state=42)\n",
    "    rf_random.fit(data_train, label_train)\n",
    "    best_params_ = rf_random.best_params_\n",
    "    cv_results = rf_random.cv_results_"
   ]
  },
  {
   "cell_type": "code",
   "execution_count": 18,
   "id": "atomic-australian",
   "metadata": {},
   "outputs": [
    {
     "data": {
      "text/plain": [
       "{'n_estimators': 228,\n",
       " 'min_samples_split': 2,\n",
       " 'min_samples_leaf': 1,\n",
       " 'max_features': 'auto',\n",
       " 'max_depth': 110,\n",
       " 'bootstrap': False}"
      ]
     },
     "execution_count": 18,
     "metadata": {},
     "output_type": "execute_result"
    }
   ],
   "source": [
    "#show the result and best params of random search\n",
    "best_params"
   ]
  },
  {
   "cell_type": "code",
   "execution_count": null,
   "id": "insured-rachel",
   "metadata": {},
   "outputs": [],
   "source": [
    "# show the accuracy and the running time of this random forest classifier based on each controlled variable"
   ]
  },
  {
   "cell_type": "code",
   "execution_count": 19,
   "id": "described-wisdom",
   "metadata": {},
   "outputs": [],
   "source": [
    "from matplotlib.patches import Polygon\n",
    "import matplotlib.pyplot as plt\n",
    "\n",
    "def plot_result(cv_results, title, x_label, y_label, param_name):\n",
    "    accuracys = np.array(cv_results['mean_test_score'])\n",
    "    cost_time = np.array(cv_results['mean_fit_time']) + np.array(cv_results['mean_score_time'])\n",
    "    params = np.array(cv_results['param_' + param_name])\n",
    "    index = params.argsort()\n",
    "    print(params)\n",
    "    accuracys = accuracys[index]\n",
    "    params = params[index]\n",
    "    cost_time = cost_time[index]\n",
    "\n",
    "    plt.figure(figsize=(13, 5))\n",
    "    plt.subplot(122)\n",
    "    ax1 = plt.subplot(1, 2, 1)\n",
    "    ax1.plot(params, accuracys)\n",
    "    ax1.set_title(title[0])\n",
    "    ax1.set_ylabel(y_label[0])\n",
    "    ax1.set_xlabel(x_label[0])\n",
    "\n",
    "\n",
    "    ax2 = plt.subplot(1, 2, 2)\n",
    "    ax2.plot(params, cost_time)\n",
    "    ax2.set_title(title[1])\n",
    "    ax2.set_ylabel(y_label[1])\n",
    "    ax2.set_xlabel(x_label[1])\n",
    "\n",
    "\n",
    "    plt.show()"
   ]
  },
  {
   "cell_type": "code",
   "execution_count": null,
   "id": "alike-seventh",
   "metadata": {},
   "outputs": [],
   "source": [
    "from sklearn.model_selection import GridSearchCV\n",
    "\n",
    "new_grid = {k: [v] for k, v in best_params.items()}\n",
    "new_grid['max_depth'] = list(range(10, 110, 10))\n",
    "rf = RandomForestClassifier()\n",
    "rf_random = GridSearchCV(estimator = rf, param_grid = new_grid, cv = 5, verbose=10)\n",
    "rf_random.fit(data_train, label_train)\n",
    "\n",
    "cv_result = rf_random.cv_results_\n",
    "best_params_ = rf_random.best_params_"
   ]
  },
  {
   "cell_type": "code",
   "execution_count": 32,
   "id": "precise-demographic",
   "metadata": {},
   "outputs": [
    {
     "data": {
      "image/png": "[encoded data removed]",
      "text/plain": [
       "<Figure size 936x360 with 2 Axes>"
      ]
     },
     "metadata": {
      "needs_background": "light"
     },
     "output_type": "display_data"
    }
   ],
   "source": [
    "#Visualizations for Random Forest training result\n",
    "#Graph of the accuracy vs. max_depth, the runtime vs. max_depth\n",
    "title = [\"The Accuracy of Random Forest\", \"The Runtime of Random Forest\"]\n",
    "x_label = [\"max_depth\", \"max_depth\"\n",
    "y_label = [\"Accuracy\", \"Runtime\"]\n",
    "cv_results = rf_random.cv_results_\n",
    "plot_result(cv_results, title, x_label, y_label, 'max_depth')"
   ]
  },
  {
   "cell_type": "code",
   "execution_count": 24,
   "id": "unique-verse",
   "metadata": {},
   "outputs": [
    {
     "name": "stdout",
     "output_type": "stream",
     "text": [
      "{'mean_fit_time': array([202.33406577, 312.64495254, 328.91767397, 328.96073995,\n",
      "       329.660428  , 330.1408514 , 330.15145097, 331.03753204,\n",
      "       330.27580123, 332.08715453]), 'std_fit_time': array([0.56372705, 0.76256114, 0.75495402, 1.02589898, 0.23185053,\n",
      "       0.68247326, 0.92473248, 1.44174524, 1.64170313, 1.15963759]), 'mean_score_time': array([0.52534461, 1.7345015 , 2.48827758, 2.49332795, 2.48086028,\n",
      "       2.50343399, 2.51019702, 2.49183116, 2.48673649, 2.46457839]), 'std_score_time': array([0.00160155, 0.09574425, 0.0072807 , 0.03979533, 0.04396962,\n",
      "       0.02355095, 0.00985752, 0.03385331, 0.03684181, 0.04478484]), 'param_bootstrap': masked_array(data=[False, False, False, False, False, False, False, False,\n",
      "                   False, False],\n",
      "             mask=[False, False, False, False, False, False, False, False,\n",
      "                   False, False],\n",
      "       fill_value='?',\n",
      "            dtype=object), 'param_max_depth': masked_array(data=[10, 20, 30, 40, 50, 60, 70, 80, 90, 100],\n",
      "             mask=[False, False, False, False, False, False, False, False,\n",
      "                   False, False],\n",
      "       fill_value='?',\n",
      "            dtype=object), 'param_max_features': masked_array(data=['auto', 'auto', 'auto', 'auto', 'auto', 'auto', 'auto',\n",
      "                   'auto', 'auto', 'auto'],\n",
      "             mask=[False, False, False, False, False, False, False, False,\n",
      "                   False, False],\n",
      "       fill_value='?',\n",
      "            dtype=object), 'param_min_samples_leaf': masked_array(data=[1, 1, 1, 1, 1, 1, 1, 1, 1, 1],\n",
      "             mask=[False, False, False, False, False, False, False, False,\n",
      "                   False, False],\n",
      "       fill_value='?',\n",
      "            dtype=object), 'param_min_samples_split': masked_array(data=[2, 2, 2, 2, 2, 2, 2, 2, 2, 2],\n",
      "             mask=[False, False, False, False, False, False, False, False,\n",
      "                   False, False],\n",
      "       fill_value='?',\n",
      "            dtype=object), 'param_n_estimators': masked_array(data=[228, 228, 228, 228, 228, 228, 228, 228, 228, 228],\n",
      "             mask=[False, False, False, False, False, False, False, False,\n",
      "                   False, False],\n",
      "       fill_value='?',\n",
      "            dtype=object), 'params': [{'bootstrap': False, 'max_depth': 10, 'max_features': 'auto', 'min_samples_leaf': 1, 'min_samples_split': 2, 'n_estimators': 228}, {'bootstrap': False, 'max_depth': 20, 'max_features': 'auto', 'min_samples_leaf': 1, 'min_samples_split': 2, 'n_estimators': 228}, {'bootstrap': False, 'max_depth': 30, 'max_features': 'auto', 'min_samples_leaf': 1, 'min_samples_split': 2, 'n_estimators': 228}, {'bootstrap': False, 'max_depth': 40, 'max_features': 'auto', 'min_samples_leaf': 1, 'min_samples_split': 2, 'n_estimators': 228}, {'bootstrap': False, 'max_depth': 50, 'max_features': 'auto', 'min_samples_leaf': 1, 'min_samples_split': 2, 'n_estimators': 228}, {'bootstrap': False, 'max_depth': 60, 'max_features': 'auto', 'min_samples_leaf': 1, 'min_samples_split': 2, 'n_estimators': 228}, {'bootstrap': False, 'max_depth': 70, 'max_features': 'auto', 'min_samples_leaf': 1, 'min_samples_split': 2, 'n_estimators': 228}, {'bootstrap': False, 'max_depth': 80, 'max_features': 'auto', 'min_samples_leaf': 1, 'min_samples_split': 2, 'n_estimators': 228}, {'bootstrap': False, 'max_depth': 90, 'max_features': 'auto', 'min_samples_leaf': 1, 'min_samples_split': 2, 'n_estimators': 228}, {'bootstrap': False, 'max_depth': 100, 'max_features': 'auto', 'min_samples_leaf': 1, 'min_samples_split': 2, 'n_estimators': 228}], 'split0_test_score': array([0.63736657, 0.75442367, 0.75621463, 0.75549824, 0.7567161 ,\n",
      "       0.75685937, 0.75277599, 0.75650118, 0.75607135, 0.75664446]), 'split1_test_score': array([0.6334981 , 0.75478186, 0.75779067, 0.7582205 , 0.75793395,\n",
      "       0.75757576, 0.75635791, 0.75693101, 0.75506841, 0.75900852]), 'split2_test_score': array([0.63643527, 0.75184469, 0.75385056, 0.75377892, 0.7539222 ,\n",
      "       0.75521169, 0.75628627, 0.75492514, 0.75599971, 0.75420875]), 'split3_test_score': array([0.63769881, 0.75562401, 0.7569136 , 0.75755839, 0.7569136 ,\n",
      "       0.75548073, 0.75662702, 0.75648374, 0.75705688, 0.75483594]), 'split4_test_score': array([0.64142427, 0.75648374, 0.75999427, 0.75763003, 0.75934948,\n",
      "       0.76078235, 0.76049577, 0.75934948, 0.75899126, 0.76092563]), 'mean_test_score': array([0.63728461, 0.75463159, 0.75695275, 0.75653722, 0.75696706,\n",
      "       0.75718198, 0.75650859, 0.75683811, 0.75663752, 0.75712466]), 'std_test_score': array([0.00254457, 0.00156512, 0.00200613, 0.0016588 , 0.00178593,\n",
      "       0.0019999 , 0.00244606, 0.00142928, 0.00133457, 0.00252855]), 'rank_test_score': array([10,  9,  4,  7,  3,  1,  8,  5,  6,  2], dtype=int32)}\n"
     ]
    }
   ],
   "source": [
    "print(rf_random.cv_results_)"
   ]
  },
  {
   "cell_type": "code",
   "execution_count": 26,
   "id": "gentle-equity",
   "metadata": {},
   "outputs": [
    {
     "name": "stdout",
     "output_type": "stream",
     "text": [
      "{'n_estimators': [50, 70, 90, 110, 130, 150, 170, 190, 210, 230], 'min_samples_split': [2], 'min_samples_leaf': [1], 'max_features': ['auto'], 'max_depth': [110], 'bootstrap': [False]}\n",
      "Fitting 5 folds for each of 10 candidates, totalling 50 fits\n",
      "[CV 1/5; 1/10] START bootstrap=False, max_depth=110, max_features=auto, min_samples_leaf=1, min_samples_split=2, n_estimators=50\n",
      "[CV 1/5; 1/10] END bootstrap=False, max_depth=110, max_features=auto, min_samples_leaf=1, min_samples_split=2, n_estimators=50;, score=0.733 total time= 1.2min\n",
      "[CV 2/5; 1/10] START bootstrap=False, max_depth=110, max_features=auto, min_samples_leaf=1, min_samples_split=2, n_estimators=50\n",
      "[CV 2/5; 1/10] END bootstrap=False, max_depth=110, max_features=auto, min_samples_leaf=1, min_samples_split=2, n_estimators=50;, score=0.735 total time= 1.2min\n",
      "[CV 3/5; 1/10] START bootstrap=False, max_depth=110, max_features=auto, min_samples_leaf=1, min_samples_split=2, n_estimators=50\n",
      "[CV 3/5; 1/10] END bootstrap=False, max_depth=110, max_features=auto, min_samples_leaf=1, min_samples_split=2, n_estimators=50;, score=0.733 total time= 1.2min\n",
      "[CV 4/5; 1/10] START bootstrap=False, max_depth=110, max_features=auto, min_samples_leaf=1, min_samples_split=2, n_estimators=50\n",
      "[CV 4/5; 1/10] END bootstrap=False, max_depth=110, max_features=auto, min_samples_leaf=1, min_samples_split=2, n_estimators=50;, score=0.738 total time= 1.2min\n",
      "[CV 5/5; 1/10] START bootstrap=False, max_depth=110, max_features=auto, min_samples_leaf=1, min_samples_split=2, n_estimators=50\n",
      "[CV 5/5; 1/10] END bootstrap=False, max_depth=110, max_features=auto, min_samples_leaf=1, min_samples_split=2, n_estimators=50;, score=0.737 total time= 1.2min\n",
      "[CV 1/5; 2/10] START bootstrap=False, max_depth=110, max_features=auto, min_samples_leaf=1, min_samples_split=2, n_estimators=70\n",
      "[CV 1/5; 2/10] END bootstrap=False, max_depth=110, max_features=auto, min_samples_leaf=1, min_samples_split=2, n_estimators=70;, score=0.741 total time= 1.7min\n",
      "[CV 2/5; 2/10] START bootstrap=False, max_depth=110, max_features=auto, min_samples_leaf=1, min_samples_split=2, n_estimators=70\n",
      "[CV 2/5; 2/10] END bootstrap=False, max_depth=110, max_features=auto, min_samples_leaf=1, min_samples_split=2, n_estimators=70;, score=0.745 total time= 1.7min\n",
      "[CV 3/5; 2/10] START bootstrap=False, max_depth=110, max_features=auto, min_samples_leaf=1, min_samples_split=2, n_estimators=70\n",
      "[CV 3/5; 2/10] END bootstrap=False, max_depth=110, max_features=auto, min_samples_leaf=1, min_samples_split=2, n_estimators=70;, score=0.743 total time= 1.7min\n",
      "[CV 4/5; 2/10] START bootstrap=False, max_depth=110, max_features=auto, min_samples_leaf=1, min_samples_split=2, n_estimators=70\n",
      "[CV 4/5; 2/10] END bootstrap=False, max_depth=110, max_features=auto, min_samples_leaf=1, min_samples_split=2, n_estimators=70;, score=0.740 total time= 1.7min\n",
      "[CV 5/5; 2/10] START bootstrap=False, max_depth=110, max_features=auto, min_samples_leaf=1, min_samples_split=2, n_estimators=70\n",
      "[CV 5/5; 2/10] END bootstrap=False, max_depth=110, max_features=auto, min_samples_leaf=1, min_samples_split=2, n_estimators=70;, score=0.743 total time= 1.7min\n",
      "[CV 1/5; 3/10] START bootstrap=False, max_depth=110, max_features=auto, min_samples_leaf=1, min_samples_split=2, n_estimators=90\n",
      "[CV 1/5; 3/10] END bootstrap=False, max_depth=110, max_features=auto, min_samples_leaf=1, min_samples_split=2, n_estimators=90;, score=0.747 total time= 2.2min\n",
      "[CV 2/5; 3/10] START bootstrap=False, max_depth=110, max_features=auto, min_samples_leaf=1, min_samples_split=2, n_estimators=90\n",
      "[CV 2/5; 3/10] END bootstrap=False, max_depth=110, max_features=auto, min_samples_leaf=1, min_samples_split=2, n_estimators=90;, score=0.747 total time= 2.2min\n",
      "[CV 3/5; 3/10] START bootstrap=False, max_depth=110, max_features=auto, min_samples_leaf=1, min_samples_split=2, n_estimators=90\n",
      "[CV 3/5; 3/10] END bootstrap=False, max_depth=110, max_features=auto, min_samples_leaf=1, min_samples_split=2, n_estimators=90;, score=0.748 total time= 2.2min\n",
      "[CV 4/5; 3/10] START bootstrap=False, max_depth=110, max_features=auto, min_samples_leaf=1, min_samples_split=2, n_estimators=90\n",
      "[CV 4/5; 3/10] END bootstrap=False, max_depth=110, max_features=auto, min_samples_leaf=1, min_samples_split=2, n_estimators=90;, score=0.748 total time= 2.2min\n",
      "[CV 5/5; 3/10] START bootstrap=False, max_depth=110, max_features=auto, min_samples_leaf=1, min_samples_split=2, n_estimators=90\n",
      "[CV 5/5; 3/10] END bootstrap=False, max_depth=110, max_features=auto, min_samples_leaf=1, min_samples_split=2, n_estimators=90;, score=0.748 total time= 2.2min\n",
      "[CV 1/5; 4/10] START bootstrap=False, max_depth=110, max_features=auto, min_samples_leaf=1, min_samples_split=2, n_estimators=110\n",
      "[CV 1/5; 4/10] END bootstrap=False, max_depth=110, max_features=auto, min_samples_leaf=1, min_samples_split=2, n_estimators=110;, score=0.750 total time= 2.7min\n",
      "[CV 2/5; 4/10] START bootstrap=False, max_depth=110, max_features=auto, min_samples_leaf=1, min_samples_split=2, n_estimators=110\n",
      "[CV 2/5; 4/10] END bootstrap=False, max_depth=110, max_features=auto, min_samples_leaf=1, min_samples_split=2, n_estimators=110;, score=0.749 total time= 2.7min\n",
      "[CV 3/5; 4/10] START bootstrap=False, max_depth=110, max_features=auto, min_samples_leaf=1, min_samples_split=2, n_estimators=110\n",
      "[CV 3/5; 4/10] END bootstrap=False, max_depth=110, max_features=auto, min_samples_leaf=1, min_samples_split=2, n_estimators=110;, score=0.748 total time= 2.7min\n",
      "[CV 4/5; 4/10] START bootstrap=False, max_depth=110, max_features=auto, min_samples_leaf=1, min_samples_split=2, n_estimators=110\n",
      "[CV 4/5; 4/10] END bootstrap=False, max_depth=110, max_features=auto, min_samples_leaf=1, min_samples_split=2, n_estimators=110;, score=0.749 total time= 2.7min\n",
      "[CV 5/5; 4/10] START bootstrap=False, max_depth=110, max_features=auto, min_samples_leaf=1, min_samples_split=2, n_estimators=110\n",
      "[CV 5/5; 4/10] END bootstrap=False, max_depth=110, max_features=auto, min_samples_leaf=1, min_samples_split=2, n_estimators=110;, score=0.753 total time= 2.7min\n",
      "[CV 1/5; 5/10] START bootstrap=False, max_depth=110, max_features=auto, min_samples_leaf=1, min_samples_split=2, n_estimators=130\n",
      "[CV 1/5; 5/10] END bootstrap=False, max_depth=110, max_features=auto, min_samples_leaf=1, min_samples_split=2, n_estimators=130;, score=0.751 total time= 3.2min\n",
      "[CV 2/5; 5/10] START bootstrap=False, max_depth=110, max_features=auto, min_samples_leaf=1, min_samples_split=2, n_estimators=130\n",
      "[CV 2/5; 5/10] END bootstrap=False, max_depth=110, max_features=auto, min_samples_leaf=1, min_samples_split=2, n_estimators=130;, score=0.754 total time= 3.2min\n",
      "[CV 3/5; 5/10] START bootstrap=False, max_depth=110, max_features=auto, min_samples_leaf=1, min_samples_split=2, n_estimators=130\n",
      "[CV 3/5; 5/10] END bootstrap=False, max_depth=110, max_features=auto, min_samples_leaf=1, min_samples_split=2, n_estimators=130;, score=0.754 total time= 3.2min\n",
      "[CV 4/5; 5/10] START bootstrap=False, max_depth=110, max_features=auto, min_samples_leaf=1, min_samples_split=2, n_estimators=130\n",
      "[CV 4/5; 5/10] END bootstrap=False, max_depth=110, max_features=auto, min_samples_leaf=1, min_samples_split=2, n_estimators=130;, score=0.753 total time= 3.2min\n",
      "[CV 5/5; 5/10] START bootstrap=False, max_depth=110, max_features=auto, min_samples_leaf=1, min_samples_split=2, n_estimators=130\n",
      "[CV 5/5; 5/10] END bootstrap=False, max_depth=110, max_features=auto, min_samples_leaf=1, min_samples_split=2, n_estimators=130;, score=0.752 total time= 3.2min\n",
      "[CV 1/5; 6/10] START bootstrap=False, max_depth=110, max_features=auto, min_samples_leaf=1, min_samples_split=2, n_estimators=150\n",
      "[CV 1/5; 6/10] END bootstrap=False, max_depth=110, max_features=auto, min_samples_leaf=1, min_samples_split=2, n_estimators=150;, score=0.754 total time= 3.6min\n",
      "[CV 2/5; 6/10] START bootstrap=False, max_depth=110, max_features=auto, min_samples_leaf=1, min_samples_split=2, n_estimators=150\n",
      "[CV 2/5; 6/10] END bootstrap=False, max_depth=110, max_features=auto, min_samples_leaf=1, min_samples_split=2, n_estimators=150;, score=0.752 total time= 3.6min\n",
      "[CV 3/5; 6/10] START bootstrap=False, max_depth=110, max_features=auto, min_samples_leaf=1, min_samples_split=2, n_estimators=150\n",
      "[CV 3/5; 6/10] END bootstrap=False, max_depth=110, max_features=auto, min_samples_leaf=1, min_samples_split=2, n_estimators=150;, score=0.752 total time= 3.6min\n",
      "[CV 4/5; 6/10] START bootstrap=False, max_depth=110, max_features=auto, min_samples_leaf=1, min_samples_split=2, n_estimators=150\n",
      "[CV 4/5; 6/10] END bootstrap=False, max_depth=110, max_features=auto, min_samples_leaf=1, min_samples_split=2, n_estimators=150;, score=0.755 total time= 3.6min\n",
      "[CV 5/5; 6/10] START bootstrap=False, max_depth=110, max_features=auto, min_samples_leaf=1, min_samples_split=2, n_estimators=150\n",
      "[CV 5/5; 6/10] END bootstrap=False, max_depth=110, max_features=auto, min_samples_leaf=1, min_samples_split=2, n_estimators=150;, score=0.755 total time= 3.6min\n",
      "[CV 1/5; 7/10] START bootstrap=False, max_depth=110, max_features=auto, min_samples_leaf=1, min_samples_split=2, n_estimators=170\n",
      "[CV 1/5; 7/10] END bootstrap=False, max_depth=110, max_features=auto, min_samples_leaf=1, min_samples_split=2, n_estimators=170;, score=0.756 total time= 4.1min\n",
      "[CV 2/5; 7/10] START bootstrap=False, max_depth=110, max_features=auto, min_samples_leaf=1, min_samples_split=2, n_estimators=170\n",
      "[CV 2/5; 7/10] END bootstrap=False, max_depth=110, max_features=auto, min_samples_leaf=1, min_samples_split=2, n_estimators=170;, score=0.753 total time= 4.1min\n",
      "[CV 3/5; 7/10] START bootstrap=False, max_depth=110, max_features=auto, min_samples_leaf=1, min_samples_split=2, n_estimators=170\n",
      "[CV 3/5; 7/10] END bootstrap=False, max_depth=110, max_features=auto, min_samples_leaf=1, min_samples_split=2, n_estimators=170;, score=0.753 total time= 4.1min\n",
      "[CV 4/5; 7/10] START bootstrap=False, max_depth=110, max_features=auto, min_samples_leaf=1, min_samples_split=2, n_estimators=170\n",
      "[CV 4/5; 7/10] END bootstrap=False, max_depth=110, max_features=auto, min_samples_leaf=1, min_samples_split=2, n_estimators=170;, score=0.755 total time= 4.1min\n",
      "[CV 5/5; 7/10] START bootstrap=False, max_depth=110, max_features=auto, min_samples_leaf=1, min_samples_split=2, n_estimators=170\n",
      "[CV 5/5; 7/10] END bootstrap=False, max_depth=110, max_features=auto, min_samples_leaf=1, min_samples_split=2, n_estimators=170;, score=0.755 total time= 4.1min\n",
      "[CV 1/5; 8/10] START bootstrap=False, max_depth=110, max_features=auto, min_samples_leaf=1, min_samples_split=2, n_estimators=190\n",
      "[CV 1/5; 8/10] END bootstrap=False, max_depth=110, max_features=auto, min_samples_leaf=1, min_samples_split=2, n_estimators=190;, score=0.756 total time= 4.6min\n",
      "[CV 2/5; 8/10] START bootstrap=False, max_depth=110, max_features=auto, min_samples_leaf=1, min_samples_split=2, n_estimators=190\n",
      "[CV 2/5; 8/10] END bootstrap=False, max_depth=110, max_features=auto, min_samples_leaf=1, min_samples_split=2, n_estimators=190;, score=0.756 total time= 4.6min\n",
      "[CV 3/5; 8/10] START bootstrap=False, max_depth=110, max_features=auto, min_samples_leaf=1, min_samples_split=2, n_estimators=190\n",
      "[CV 3/5; 8/10] END bootstrap=False, max_depth=110, max_features=auto, min_samples_leaf=1, min_samples_split=2, n_estimators=190;, score=0.754 total time= 4.6min\n",
      "[CV 4/5; 8/10] START bootstrap=False, max_depth=110, max_features=auto, min_samples_leaf=1, min_samples_split=2, n_estimators=190\n",
      "[CV 4/5; 8/10] END bootstrap=False, max_depth=110, max_features=auto, min_samples_leaf=1, min_samples_split=2, n_estimators=190;, score=0.755 total time= 4.6min\n",
      "[CV 5/5; 8/10] START bootstrap=False, max_depth=110, max_features=auto, min_samples_leaf=1, min_samples_split=2, n_estimators=190\n",
      "[CV 5/5; 8/10] END bootstrap=False, max_depth=110, max_features=auto, min_samples_leaf=1, min_samples_split=2, n_estimators=190;, score=0.759 total time= 4.6min\n",
      "[CV 1/5; 9/10] START bootstrap=False, max_depth=110, max_features=auto, min_samples_leaf=1, min_samples_split=2, n_estimators=210\n",
      "[CV 1/5; 9/10] END bootstrap=False, max_depth=110, max_features=auto, min_samples_leaf=1, min_samples_split=2, n_estimators=210;, score=0.756 total time= 5.1min\n",
      "[CV 2/5; 9/10] START bootstrap=False, max_depth=110, max_features=auto, min_samples_leaf=1, min_samples_split=2, n_estimators=210\n",
      "[CV 2/5; 9/10] END bootstrap=False, max_depth=110, max_features=auto, min_samples_leaf=1, min_samples_split=2, n_estimators=210;, score=0.756 total time= 5.1min\n",
      "[CV 3/5; 9/10] START bootstrap=False, max_depth=110, max_features=auto, min_samples_leaf=1, min_samples_split=2, n_estimators=210\n",
      "[CV 3/5; 9/10] END bootstrap=False, max_depth=110, max_features=auto, min_samples_leaf=1, min_samples_split=2, n_estimators=210;, score=0.755 total time= 5.1min\n",
      "[CV 4/5; 9/10] START bootstrap=False, max_depth=110, max_features=auto, min_samples_leaf=1, min_samples_split=2, n_estimators=210\n",
      "[CV 4/5; 9/10] END bootstrap=False, max_depth=110, max_features=auto, min_samples_leaf=1, min_samples_split=2, n_estimators=210;, score=0.752 total time= 5.1min\n",
      "[CV 5/5; 9/10] START bootstrap=False, max_depth=110, max_features=auto, min_samples_leaf=1, min_samples_split=2, n_estimators=210\n",
      "[CV 5/5; 9/10] END bootstrap=False, max_depth=110, max_features=auto, min_samples_leaf=1, min_samples_split=2, n_estimators=210;, score=0.760 total time= 5.1min\n",
      "[CV 1/5; 10/10] START bootstrap=False, max_depth=110, max_features=auto, min_samples_leaf=1, min_samples_split=2, n_estimators=230\n",
      "[CV 1/5; 10/10] END bootstrap=False, max_depth=110, max_features=auto, min_samples_leaf=1, min_samples_split=2, n_estimators=230;, score=0.757 total time= 5.6min\n",
      "[CV 2/5; 10/10] START bootstrap=False, max_depth=110, max_features=auto, min_samples_leaf=1, min_samples_split=2, n_estimators=230\n",
      "[CV 2/5; 10/10] END bootstrap=False, max_depth=110, max_features=auto, min_samples_leaf=1, min_samples_split=2, n_estimators=230;, score=0.755 total time= 5.6min\n",
      "[CV 3/5; 10/10] START bootstrap=False, max_depth=110, max_features=auto, min_samples_leaf=1, min_samples_split=2, n_estimators=230\n",
      "[CV 3/5; 10/10] END bootstrap=False, max_depth=110, max_features=auto, min_samples_leaf=1, min_samples_split=2, n_estimators=230;, score=0.756 total time= 5.6min\n",
      "[CV 4/5; 10/10] START bootstrap=False, max_depth=110, max_features=auto, min_samples_leaf=1, min_samples_split=2, n_estimators=230\n",
      "[CV 4/5; 10/10] END bootstrap=False, max_depth=110, max_features=auto, min_samples_leaf=1, min_samples_split=2, n_estimators=230;, score=0.757 total time= 5.6min\n",
      "[CV 5/5; 10/10] START bootstrap=False, max_depth=110, max_features=auto, min_samples_leaf=1, min_samples_split=2, n_estimators=230\n",
      "[CV 5/5; 10/10] END bootstrap=False, max_depth=110, max_features=auto, min_samples_leaf=1, min_samples_split=2, n_estimators=230;, score=0.760 total time= 5.6min\n"
     ]
    },
    {
     "data": {
      "text/plain": [
       "GridSearchCV(cv=5, estimator=RandomForestClassifier(),\n",
       "             param_grid={'bootstrap': [False], 'max_depth': [110],\n",
       "                         'max_features': ['auto'], 'min_samples_leaf': [1],\n",
       "                         'min_samples_split': [2],\n",
       "                         'n_estimators': [50, 70, 90, 110, 130, 150, 170, 190,\n",
       "                                          210, 230]},\n",
       "             verbose=10)"
      ]
     },
     "execution_count": 26,
     "metadata": {},
     "output_type": "execute_result"
    }
   ],
   "source": [
    "new_grid = {k: [v] for k, v in best_params.items()}\n",
    "new_grid['n_estimators'] = list(range(50, 250, 20))\n",
    "print(new_grid)\n",
    "rf = RandomForestClassifier()\n",
    "grid_search = GridSearchCV(estimator = rf, param_grid = new_grid, cv = 5, verbose=10)\n",
    "grid_search.fit(data_train, label_train)"
   ]
  },
  {
   "cell_type": "code",
   "execution_count": 27,
   "id": "metric-providence",
   "metadata": {},
   "outputs": [
    {
     "data": {
      "text/plain": [
       "{'mean_fit_time': array([ 72.3681623 , 101.11327324, 129.90426888, 159.34791288,\n",
       "        188.18643961, 216.88711424, 246.00093136, 274.68320332,\n",
       "        303.99210105, 333.82436976]),\n",
       " 'std_fit_time': array([0.46534338, 0.37934914, 0.26098525, 0.37294882, 0.16138298,\n",
       "        0.65261773, 0.70350817, 0.72842871, 0.45431816, 0.88843307]),\n",
       " 'mean_score_time': array([0.28587465, 0.45116262, 0.66638412, 0.83311801, 1.04197478,\n",
       "        1.19492078, 1.58325353, 2.06611991, 2.34407058, 2.57768245]),\n",
       " 'std_score_time': array([0.01315074, 0.03801214, 0.02629902, 0.01505551, 0.04267864,\n",
       "        0.00562566, 0.1382072 , 0.02362618, 0.0187399 , 0.03103009]),\n",
       " 'param_bootstrap': masked_array(data=[False, False, False, False, False, False, False, False,\n",
       "                    False, False],\n",
       "              mask=[False, False, False, False, False, False, False, False,\n",
       "                    False, False],\n",
       "        fill_value='?',\n",
       "             dtype=object),\n",
       " 'param_max_depth': masked_array(data=[110, 110, 110, 110, 110, 110, 110, 110, 110, 110],\n",
       "              mask=[False, False, False, False, False, False, False, False,\n",
       "                    False, False],\n",
       "        fill_value='?',\n",
       "             dtype=object),\n",
       " 'param_max_features': masked_array(data=['auto', 'auto', 'auto', 'auto', 'auto', 'auto', 'auto',\n",
       "                    'auto', 'auto', 'auto'],\n",
       "              mask=[False, False, False, False, False, False, False, False,\n",
       "                    False, False],\n",
       "        fill_value='?',\n",
       "             dtype=object),\n",
       " 'param_min_samples_leaf': masked_array(data=[1, 1, 1, 1, 1, 1, 1, 1, 1, 1],\n",
       "              mask=[False, False, False, False, False, False, False, False,\n",
       "                    False, False],\n",
       "        fill_value='?',\n",
       "             dtype=object),\n",
       " 'param_min_samples_split': masked_array(data=[2, 2, 2, 2, 2, 2, 2, 2, 2, 2],\n",
       "              mask=[False, False, False, False, False, False, False, False,\n",
       "                    False, False],\n",
       "        fill_value='?',\n",
       "             dtype=object),\n",
       " 'param_n_estimators': masked_array(data=[50, 70, 90, 110, 130, 150, 170, 190, 210, 230],\n",
       "              mask=[False, False, False, False, False, False, False, False,\n",
       "                    False, False],\n",
       "        fill_value='?',\n",
       "             dtype=object),\n",
       " 'params': [{'bootstrap': False,\n",
       "   'max_depth': 110,\n",
       "   'max_features': 'auto',\n",
       "   'min_samples_leaf': 1,\n",
       "   'min_samples_split': 2,\n",
       "   'n_estimators': 50},\n",
       "  {'bootstrap': False,\n",
       "   'max_depth': 110,\n",
       "   'max_features': 'auto',\n",
       "   'min_samples_leaf': 1,\n",
       "   'min_samples_split': 2,\n",
       "   'n_estimators': 70},\n",
       "  {'bootstrap': False,\n",
       "   'max_depth': 110,\n",
       "   'max_features': 'auto',\n",
       "   'min_samples_leaf': 1,\n",
       "   'min_samples_split': 2,\n",
       "   'n_estimators': 90},\n",
       "  {'bootstrap': False,\n",
       "   'max_depth': 110,\n",
       "   'max_features': 'auto',\n",
       "   'min_samples_leaf': 1,\n",
       "   'min_samples_split': 2,\n",
       "   'n_estimators': 110},\n",
       "  {'bootstrap': False,\n",
       "   'max_depth': 110,\n",
       "   'max_features': 'auto',\n",
       "   'min_samples_leaf': 1,\n",
       "   'min_samples_split': 2,\n",
       "   'n_estimators': 130},\n",
       "  {'bootstrap': False,\n",
       "   'max_depth': 110,\n",
       "   'max_features': 'auto',\n",
       "   'min_samples_leaf': 1,\n",
       "   'min_samples_split': 2,\n",
       "   'n_estimators': 150},\n",
       "  {'bootstrap': False,\n",
       "   'max_depth': 110,\n",
       "   'max_features': 'auto',\n",
       "   'min_samples_leaf': 1,\n",
       "   'min_samples_split': 2,\n",
       "   'n_estimators': 170},\n",
       "  {'bootstrap': False,\n",
       "   'max_depth': 110,\n",
       "   'max_features': 'auto',\n",
       "   'min_samples_leaf': 1,\n",
       "   'min_samples_split': 2,\n",
       "   'n_estimators': 190},\n",
       "  {'bootstrap': False,\n",
       "   'max_depth': 110,\n",
       "   'max_features': 'auto',\n",
       "   'min_samples_leaf': 1,\n",
       "   'min_samples_split': 2,\n",
       "   'n_estimators': 210},\n",
       "  {'bootstrap': False,\n",
       "   'max_depth': 110,\n",
       "   'max_features': 'auto',\n",
       "   'min_samples_leaf': 1,\n",
       "   'min_samples_split': 2,\n",
       "   'n_estimators': 230}],\n",
       " 'split0_test_score': array([0.73271724, 0.74117057, 0.74683   , 0.74955226, 0.75127158,\n",
       "        0.75363565, 0.75592808, 0.75614299, 0.75571316, 0.75685937]),\n",
       " 'split1_test_score': array([0.7354395 , 0.74475249, 0.74725983, 0.74912243, 0.75442367,\n",
       "        0.75248943, 0.75327746, 0.75599971, 0.75585644, 0.75456695]),\n",
       " 'split2_test_score': array([0.73286052, 0.74317645, 0.74826277, 0.74783294, 0.75406548,\n",
       "        0.75234616, 0.75342073, 0.75413712, 0.75456695, 0.75556988]),\n",
       " 'split3_test_score': array([0.73771314, 0.74043559, 0.74781487, 0.74896117, 0.75340307,\n",
       "        0.75483594, 0.75505087, 0.75533744, 0.75232841, 0.75684195]),\n",
       " 'split4_test_score': array([0.73742657, 0.74330133, 0.74817309, 0.75347471, 0.75232841,\n",
       "        0.75505087, 0.75483594, 0.75913455, 0.76035249, 0.75970769]),\n",
       " 'mean_test_score': array([0.73523139, 0.74256729, 0.74766811, 0.7497887 , 0.75309844,\n",
       "        0.75367161, 0.75450261, 0.75615036, 0.75576349, 0.75670917]),\n",
       " 'std_test_score': array([0.00214304, 0.00156077, 0.00054759, 0.00192854, 0.00115884,\n",
       "        0.00113258, 0.00101145, 0.00165179, 0.00261922, 0.00172734]),\n",
       " 'rank_test_score': array([10,  9,  8,  7,  6,  5,  4,  2,  3,  1], dtype=int32)}"
      ]
     },
     "execution_count": 27,
     "metadata": {},
     "output_type": "execute_result"
    }
   ],
   "source": [
    "grid_search.cv_results_"
   ]
  },
  {
   "cell_type": "code",
   "execution_count": 28,
   "id": "modular-blake",
   "metadata": {},
   "outputs": [
    {
     "data": {
      "image/png": "[encoded data removed]",
      "text/plain": [
       "<Figure size 936x360 with 2 Axes>"
      ]
     },
     "metadata": {
      "needs_background": "light"
     },
     "output_type": "display_data"
    }
   ],
   "source": [
    "#Visualizations for Random Forest training result\n",
    "#Graph of the accuracy vs. n_estimators, the runtime vs. n_estimators\n",
    "cv_results = grid_search.cv_results_\n",
    "title = [\"The Accuracy of Random Forest\", \"The Runtime of Random Forest\"]\n",
    "x_label = [\"n_estimators\", \"n_estimators\"]\n",
    "y_label = [\"Accuracy\", \"Runtime\"]\n",
    "plot_result(cv_results, title, x_label, y_label, 'n_estimators')"
   ]
  },
  {
   "cell_type": "code",
   "execution_count": 34,
   "id": "treated-teens",
   "metadata": {},
   "outputs": [
    {
     "data": {
      "text/plain": [
       "RandomForestClassifier(bootstrap=False, max_depth=110, n_estimators=228)"
      ]
     },
     "execution_count": 34,
     "metadata": {},
     "output_type": "execute_result"
    }
   ],
   "source": [
    "from sklearn.ensemble import RandomForestClassifier\n",
    "from sklearn.metrics import accuracy_score, precision_score, recall_score, confusion_matrix\n",
    "\n",
    "best_esemble = RandomForestClassifier(**best_params)\n",
    "best_esemble.fit(data_train, label_train)"
   ]
  },
  {
   "cell_type": "code",
   "execution_count": null,
   "id": "necessary-moore",
   "metadata": {},
   "outputs": [],
   "source": [
    "#calculate the perfermance metric of RF model, including precision, recall, accuracy"
   ]
  },
  {
   "cell_type": "code",
   "execution_count": 41,
   "id": "suitable-discretion",
   "metadata": {},
   "outputs": [
    {
     "name": "stdout",
     "output_type": "stream",
     "text": [
      "[ 5  0  2 ...  3 10  8]\n",
      "[16  0  2 ...  3  0  8]\n",
      "Accuracy: 0.7479367262723521\n",
      "Recall: 0.48252830659431034\n",
      "Precision: 0.6465831609757513\n",
      "[0 0 0 0 0 0 0 0 0 0 0 0 0 0 0 0 0 0 0 0 0 0 0 0 0 0 0 0 0 0 0 0 0 0 0 2 0\n",
      " 0 0 0 0 0 0 0 0 0 0 0 0 0 0 0 0 0 0 0 0 0 0 0 0 9]\n"
     ]
    },
    {
     "name": "stderr",
     "output_type": "stream",
     "text": [
      "/Library/Frameworks/Python.framework/Versions/3.9/lib/python3.9/site-packages/sklearn/metrics/_classification.py:1318: UndefinedMetricWarning: Precision is ill-defined and being set to 0.0 in labels with no predicted samples. Use `zero_division` parameter to control this behavior.\n",
      "  _warn_prf(average, modifier, msg_start, len(result))\n"
     ]
    }
   ],
   "source": [
    "predict_data = best_esemble.predict(data_test)\n",
    "precision = precision_score(label_test, predict_data, average = 'macro')\n",
    "recall = recall_score(label_test, predict_data,average = 'macro')\n",
    "accuracy = accuracy_score(label_test,predict_data)\n",
    "\n",
    "print(predict_data)\n",
    "print(label_test)\n",
    "\n",
    "print(\"Accuracy: \" + str(accuracy))\n",
    "print(\"Recall: \" + str(recall))\n",
    "print(\"Precision: \" + str(precision))\n",
    "\n",
    "#show the confusion_matrix of this RF model\n",
    "print(confusion_matrix(predict_data,label_test)[-1])"
   ]
  },
  {
   "cell_type": "code",
   "execution_count": 43,
   "id": "straight-board",
   "metadata": {},
   "outputs": [],
   "source": [
    "#save the model"
   ]
  },
  {
   "cell_type": "code",
   "execution_count": 44,
   "id": "compliant-click",
   "metadata": {},
   "outputs": [],
   "source": [
    "import joblib\n",
    "joblib.dump(best_esemble,'./EMNIST./zip/matlab/random_forest.model')\n",
    "best_esemble = joblib.load('./EMNIST./zip/matlab/random_forest.model')"
   ]
  },
  {
   "cell_type": "code",
   "execution_count": null,
   "id": "mysterious-neighborhood",
   "metadata": {},
   "outputs": [],
   "source": []
  }
 ],
 "metadata": {
  "kernelspec": {
   "display_name": "Python 3",
   "language": "python",
   "name": "python3"
  },
  "language_info": {
   "codemirror_mode": {
    "name": "ipython",
    "version": 3
   },
   "file_extension": ".py",
   "mimetype": "text/x-python",
   "name": "python",
   "nbconvert_exporter": "python",
   "pygments_lexer": "ipython3",
   "version": "3.9.1"
  }
 },
 "nbformat": 4,
 "nbformat_minor": 5
}
